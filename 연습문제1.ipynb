{
 "cells": [
  {
   "cell_type": "markdown",
   "metadata": {},
   "source": [
    "연습 문제\n",
    "1.제공하는 daily-weather-headlines.txt 파일을 읽어서 월별 어절 빈도를 구조화하라.\n",
    "2.빈도 상위 20 개의 어절에 대하여 스프레드시트에서 월별 빈도 차트를 그릴 수 있는 형태의 TSV 파일을 생성하라."
   ]
  },
  {
   "cell_type": "code",
   "execution_count": 8,
   "metadata": {
    "collapsed": false
   },
   "outputs": [
    {
     "ename": "AttributeError",
     "evalue": "'list' object has no attribute 'counts'",
     "output_type": "error",
     "traceback": [
      "\u001b[0;31m---------------------------------------------------------------------------\u001b[0m",
      "\u001b[0;31mAttributeError\u001b[0m                            Traceback (most recent call last)",
      "\u001b[0;32m<ipython-input-8-7dabf0a8a918>\u001b[0m in \u001b[0;36m<module>\u001b[0;34m()\u001b[0m\n\u001b[1;32m     37\u001b[0m     \u001b[0mprint_monthly_word_counts\u001b[0m\u001b[1;33m(\u001b[0m\u001b[0mmonthly_word_counts\u001b[0m\u001b[1;33m)\u001b[0m\u001b[1;33m\u001b[0m\u001b[0m\n\u001b[1;32m     38\u001b[0m \u001b[1;33m\u001b[0m\u001b[0m\n\u001b[0;32m---> 39\u001b[0;31m \u001b[0mmain\u001b[0m\u001b[1;33m(\u001b[0m\u001b[1;33m)\u001b[0m\u001b[1;33m\u001b[0m\u001b[0m\n\u001b[0m",
      "\u001b[0;32m<ipython-input-8-7dabf0a8a918>\u001b[0m in \u001b[0;36mmain\u001b[0;34m()\u001b[0m\n\u001b[1;32m     35\u001b[0m     \u001b[0mif_name\u001b[0m \u001b[1;33m=\u001b[0m \u001b[1;34m\"../data/textproc/daily-weather-headlines.txt\"\u001b[0m\u001b[1;33m\u001b[0m\u001b[0m\n\u001b[1;32m     36\u001b[0m     \u001b[0mmonthly_word_counts\u001b[0m \u001b[1;33m=\u001b[0m \u001b[0mget_monthly_word_counts\u001b[0m\u001b[1;33m(\u001b[0m\u001b[0mif_name\u001b[0m\u001b[1;33m)\u001b[0m\u001b[1;33m\u001b[0m\u001b[0m\n\u001b[0;32m---> 37\u001b[0;31m     \u001b[0mprint_monthly_word_counts\u001b[0m\u001b[1;33m(\u001b[0m\u001b[0mmonthly_word_counts\u001b[0m\u001b[1;33m)\u001b[0m\u001b[1;33m\u001b[0m\u001b[0m\n\u001b[0m\u001b[1;32m     38\u001b[0m \u001b[1;33m\u001b[0m\u001b[0m\n\u001b[1;32m     39\u001b[0m \u001b[0mmain\u001b[0m\u001b[1;33m(\u001b[0m\u001b[1;33m)\u001b[0m\u001b[1;33m\u001b[0m\u001b[0m\n",
      "\u001b[0;32m<ipython-input-8-7dabf0a8a918>\u001b[0m in \u001b[0;36mprint_monthly_word_counts\u001b[0;34m(monthly_word_counts)\u001b[0m\n\u001b[1;32m     26\u001b[0m         \u001b[0mcounts\u001b[0m \u001b[1;33m=\u001b[0m \u001b[1;33m[\u001b[0m\u001b[1;33m]\u001b[0m\u001b[1;33m\u001b[0m\u001b[0m\n\u001b[1;32m     27\u001b[0m         \u001b[0mword\u001b[0m \u001b[1;33m=\u001b[0m \u001b[1;33m[\u001b[0m\u001b[1;33m]\u001b[0m\u001b[1;33m\u001b[0m\u001b[0m\n\u001b[0;32m---> 28\u001b[0;31m         \u001b[1;32mfor\u001b[0m \u001b[0mword\u001b[0m\u001b[1;33m,\u001b[0m \u001b[0mcount\u001b[0m \u001b[1;32min\u001b[0m \u001b[0mword\u001b[0m\u001b[1;33m.\u001b[0m\u001b[0mcounts\u001b[0m\u001b[1;33m.\u001b[0m\u001b[0mitems\u001b[0m\u001b[1;33m(\u001b[0m\u001b[1;33m)\u001b[0m\u001b[1;33m:\u001b[0m\u001b[1;33m\u001b[0m\u001b[0m\n\u001b[0m\u001b[1;32m     29\u001b[0m             \u001b[0mcount_elem\u001b[0m \u001b[1;33m=\u001b[0m \u001b[1;33m{\u001b[0m\u001b[1;34m\"word\"\u001b[0m\u001b[1;33m:\u001b[0m \u001b[0mword\u001b[0m\u001b[1;33m,\u001b[0m \u001b[1;34m\"count\"\u001b[0m\u001b[1;33m:\u001b[0m \u001b[0mcount\u001b[0m\u001b[1;33m}\u001b[0m\u001b[1;33m\u001b[0m\u001b[0m\n\u001b[1;32m     30\u001b[0m             \u001b[0mcounts\u001b[0m\u001b[1;33m.\u001b[0m\u001b[0mappend\u001b[0m\u001b[1;33m(\u001b[0m\u001b[0mcount_elem\u001b[0m\u001b[1;33m)\u001b[0m\u001b[1;33m\u001b[0m\u001b[0m\n",
      "\u001b[0;31mAttributeError\u001b[0m: 'list' object has no attribute 'counts'"
     ]
    }
   ],
   "source": [
    "#key: 월, value: 어절빈도 -> Counter\n",
    "#Counter의 딕셔너리 만들기\n",
    "#1. 파일을 읽어서 월별 어절 빈도 생성 -> get_monthly_word_counts\n",
    "#2. 출력. -> print_monthly_word_counts\n",
    "#\n",
    "\n",
    "from collections import defaultdict \n",
    "from collections import Counter\n",
    "import json\n",
    "\n",
    "def get_monthly_word_counts(if_name):\n",
    "    monthly_word_counts = defaultdict(Counter)\n",
    "    \n",
    "    with open(if_name, \"r\", encoding = \"utf-8\") as if_file:\n",
    "        for line in if_file:\n",
    "            date, headline1, headline2 = line.strip().split(\"\\t\")\n",
    "            month = date[:6]\n",
    "            words = headline1.split() + headline2.split()\n",
    "            monthly_word_counts[month].update(words)\n",
    "\n",
    "    return monthly_word_counts\n",
    "\n",
    "def print_monthly_word_counts(monthly_word_counts):\n",
    "    #print(json.dumps(monthly_word_counts, ensure_ascii=False))\n",
    "    for month, word_counts in sorted(monthly_word_counts.items()):\n",
    "        counts = []\n",
    "        word = []\n",
    "        for word, count in word.counts.items():\n",
    "            count_elem = {\"word\": word, \"count\": count}\n",
    "            counts.append(count_elem)\n",
    "        output = {\"month\": month, \"word_counts\": word_counts}\n",
    "    print(json.dumps(output), ensure_ascii=False)\n",
    "    \n",
    "def main():\n",
    "    if_name = \"../data/textproc/daily-weather-headlines.txt\"\n",
    "    monthly_word_counts = get_monthly_word_counts(if_name)\n",
    "    print_monthly_word_counts(monthly_word_counts)\n",
    "\n",
    "main()"
   ]
  }
 ],
 "metadata": {
  "kernelspec": {
   "display_name": "Python 3",
   "language": "python",
   "name": "python3"
  },
  "language_info": {
   "codemirror_mode": {
    "name": "ipython",
    "version": 3
   },
   "file_extension": ".py",
   "mimetype": "text/x-python",
   "name": "python",
   "nbconvert_exporter": "python",
   "pygments_lexer": "ipython3",
   "version": "3.6.0"
  }
 },
 "nbformat": 4,
 "nbformat_minor": 2
}
